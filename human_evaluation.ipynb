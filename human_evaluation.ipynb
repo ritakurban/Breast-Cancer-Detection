{
 "cells": [
  {
   "cell_type": "markdown",
   "metadata": {},
   "source": [
    "# Human Thermography Evaluation\n",
    "\n",
    "This notebook compares two human evaluation techniques presented in the literature, Gonzalez and Keyserlingk scores, against a fully subjective evaluation. 114 thermograms were labeled by two independent researchers -- R1 and R2. "
   ]
  },
  {
   "cell_type": "markdown",
   "metadata": {
    "toc": true
   },
   "source": [
    "<h1>Table of Contents<span class=\"tocSkip\"></span></h1>\n",
    "<div class=\"toc\"><ul class=\"toc-item\"><li><span><a href=\"#Load-Data\" data-toc-modified-id=\"Load-Data-1\"><span class=\"toc-item-num\">1&nbsp;&nbsp;</span>Load Data</a></span></li><li><span><a href=\"#Analysis\" data-toc-modified-id=\"Analysis-2\"><span class=\"toc-item-num\">2&nbsp;&nbsp;</span>Analysis</a></span><ul class=\"toc-item\"><li><span><a href=\"#Correlation\" data-toc-modified-id=\"Correlation-2.1\"><span class=\"toc-item-num\">2.1&nbsp;&nbsp;</span>Correlation</a></span></li><li><span><a href=\"#Combined-Evaluations\" data-toc-modified-id=\"Combined-Evaluations-2.2\"><span class=\"toc-item-num\">2.2&nbsp;&nbsp;</span>Combined Evaluations</a></span></li><li><span><a href=\"#Thermal-Scores\" data-toc-modified-id=\"Thermal-Scores-2.3\"><span class=\"toc-item-num\">2.3&nbsp;&nbsp;</span>Thermal Scores</a></span></li></ul></li><li><span><a href=\"#Score-correlation\" data-toc-modified-id=\"Score-correlation-3\"><span class=\"toc-item-num\">3&nbsp;&nbsp;</span>Score correlation</a></span></li><li><span><a href=\"#ML\" data-toc-modified-id=\"ML-4\"><span class=\"toc-item-num\">4&nbsp;&nbsp;</span>ML</a></span></li></ul></div>"
   ]
  },
  {
   "cell_type": "code",
   "execution_count": 3,
   "metadata": {},
   "outputs": [],
   "source": [
    "# Import packages\n",
    "import os\n",
    "import pandas as pd\n",
    "import numpy as np\n",
    "import seaborn as sns\n",
    "import matplotlib.pyplot as plt\n",
    "from sklearn import metrics\n",
    "from sklearn import preprocessing\n",
    "from sklearn.manifold import TSNE\n",
    "from sklearn.decomposition import PCA\n",
    "from sklearn.ensemble import RandomForestClassifier\n",
    "from sklearn.linear_model import LogisticRegression\n",
    "from sklearn.neural_network import MLPClassifier as MLP"
   ]
  },
  {
   "cell_type": "markdown",
   "metadata": {},
   "source": [
    "## Load Data"
   ]
  },
  {
   "cell_type": "code",
   "execution_count": 4,
   "metadata": {},
   "outputs": [],
   "source": [
    "# Load R1 data\n",
    "filename = 'r1.csv'\n",
    "r1 = pd.read_csv(filename)\n",
    "\n",
    "# Subset evaluation PIDs\n",
    "eval_pids = r1.ID\n",
    "\n",
    "# Remove unnecessary columns\n",
    "r1 = r1.drop(['Idx', 'Imagen', 'Notas', 'ID'], axis = 1) #screening"
   ]
  },
  {
   "cell_type": "code",
   "execution_count": 5,
   "metadata": {},
   "outputs": [],
   "source": [
    "# Load R2 data\n",
    "r2 = pd.read_excel('r2.xlsx')\n",
    "\n",
    "# Preprocess delta-T column and add BIRADS\n",
    "r2['delta-T'] = [float(string.split(\"=\")[1]) if type(string)==str \n",
    "                 else string for string in r2['delta-T'].values]\n",
    "r2['birads'] = r1['birads']"
   ]
  },
  {
   "cell_type": "code",
   "execution_count": 6,
   "metadata": {},
   "outputs": [],
   "source": [
    "# Define columns that aren't used in the ML analysis\n",
    "dropcols = ['BIRADS', 'Subjective', 'Vascularity']"
   ]
  },
  {
   "cell_type": "code",
   "execution_count": 7,
   "metadata": {},
   "outputs": [],
   "source": [
    "# Rename Columns\n",
    "r1.columns = ['# Regions of Interest', 'Size of Asymmetry', \n",
    "              'Vascularity', 'Shape of Asymmetry', \n",
    "              'delta-T', 'Nipple Asymmetry',\n",
    "              'Breast Shape Asymmetry', 'Subjective', \n",
    "              'BIRADS'] \n",
    "r2.columns = ['# Regions of Interest', 'Size of Asymmetry', \n",
    "              'Vascularity', 'Shape of Asymmetry', \n",
    "              'delta-T', 'Nipple Asymmetry',\n",
    "              'Breast Shape Asymmetry', 'Subjective', \n",
    "              'BIRADS'] "
   ]
  },
  {
   "cell_type": "code",
   "execution_count": 8,
   "metadata": {},
   "outputs": [
    {
     "data": {
      "text/html": [
       "<div>\n",
       "<style scoped>\n",
       "    .dataframe tbody tr th:only-of-type {\n",
       "        vertical-align: middle;\n",
       "    }\n",
       "\n",
       "    .dataframe tbody tr th {\n",
       "        vertical-align: top;\n",
       "    }\n",
       "\n",
       "    .dataframe thead th {\n",
       "        text-align: right;\n",
       "    }\n",
       "</style>\n",
       "<table border=\"1\" class=\"dataframe\">\n",
       "  <thead>\n",
       "    <tr style=\"text-align: right;\">\n",
       "      <th></th>\n",
       "      <th># Regions of Interest</th>\n",
       "      <th>Size of Asymmetry</th>\n",
       "      <th>Vascularity</th>\n",
       "      <th>Shape of Asymmetry</th>\n",
       "      <th>delta-T</th>\n",
       "      <th>Nipple Asymmetry</th>\n",
       "      <th>Breast Shape Asymmetry</th>\n",
       "      <th>Subjective</th>\n",
       "      <th>BIRADS</th>\n",
       "    </tr>\n",
       "  </thead>\n",
       "  <tbody>\n",
       "    <tr>\n",
       "      <th>0</th>\n",
       "      <td>1</td>\n",
       "      <td>4</td>\n",
       "      <td>2</td>\n",
       "      <td>3</td>\n",
       "      <td>1.65</td>\n",
       "      <td>1</td>\n",
       "      <td>2</td>\n",
       "      <td>6</td>\n",
       "      <td>6</td>\n",
       "    </tr>\n",
       "    <tr>\n",
       "      <th>1</th>\n",
       "      <td>1</td>\n",
       "      <td>1</td>\n",
       "      <td>1</td>\n",
       "      <td>2</td>\n",
       "      <td>0.69</td>\n",
       "      <td>0</td>\n",
       "      <td>2</td>\n",
       "      <td>2</td>\n",
       "      <td>6</td>\n",
       "    </tr>\n",
       "    <tr>\n",
       "      <th>2</th>\n",
       "      <td>1</td>\n",
       "      <td>2</td>\n",
       "      <td>1</td>\n",
       "      <td>3</td>\n",
       "      <td>1.90</td>\n",
       "      <td>0</td>\n",
       "      <td>2</td>\n",
       "      <td>2</td>\n",
       "      <td>2</td>\n",
       "    </tr>\n",
       "    <tr>\n",
       "      <th>3</th>\n",
       "      <td>1</td>\n",
       "      <td>2</td>\n",
       "      <td>1</td>\n",
       "      <td>2</td>\n",
       "      <td>3.00</td>\n",
       "      <td>0</td>\n",
       "      <td>2</td>\n",
       "      <td>5</td>\n",
       "      <td>6</td>\n",
       "    </tr>\n",
       "    <tr>\n",
       "      <th>4</th>\n",
       "      <td>2</td>\n",
       "      <td>7</td>\n",
       "      <td>4</td>\n",
       "      <td>7</td>\n",
       "      <td>2.20</td>\n",
       "      <td>0</td>\n",
       "      <td>6</td>\n",
       "      <td>9</td>\n",
       "      <td>6</td>\n",
       "    </tr>\n",
       "  </tbody>\n",
       "</table>\n",
       "</div>"
      ],
      "text/plain": [
       "   # Regions of Interest  Size of Asymmetry  Vascularity  Shape of Asymmetry  \\\n",
       "0                      1                  4            2                   3   \n",
       "1                      1                  1            1                   2   \n",
       "2                      1                  2            1                   3   \n",
       "3                      1                  2            1                   2   \n",
       "4                      2                  7            4                   7   \n",
       "\n",
       "   delta-T  Nipple Asymmetry  Breast Shape Asymmetry  Subjective  BIRADS  \n",
       "0     1.65                 1                       2           6       6  \n",
       "1     0.69                 0                       2           2       6  \n",
       "2     1.90                 0                       2           2       2  \n",
       "3     3.00                 0                       2           5       6  \n",
       "4     2.20                 0                       6           9       6  "
      ]
     },
     "execution_count": 8,
     "metadata": {},
     "output_type": "execute_result"
    }
   ],
   "source": [
    "# Show data\n",
    "r1.head()"
   ]
  },
  {
   "cell_type": "markdown",
   "metadata": {},
   "source": [
    "## Analysis\n",
    "### Correlation "
   ]
  },
  {
   "cell_type": "code",
   "execution_count": 9,
   "metadata": {},
   "outputs": [
    {
     "data": {
      "text/html": [
       "<div>\n",
       "<style scoped>\n",
       "    .dataframe tbody tr th:only-of-type {\n",
       "        vertical-align: middle;\n",
       "    }\n",
       "\n",
       "    .dataframe tbody tr th {\n",
       "        vertical-align: top;\n",
       "    }\n",
       "\n",
       "    .dataframe thead th {\n",
       "        text-align: right;\n",
       "    }\n",
       "</style>\n",
       "<table border=\"1\" class=\"dataframe\">\n",
       "  <thead>\n",
       "    <tr style=\"text-align: right;\">\n",
       "      <th></th>\n",
       "      <th>R1</th>\n",
       "      <th>R2</th>\n",
       "    </tr>\n",
       "  </thead>\n",
       "  <tbody>\n",
       "    <tr>\n",
       "      <th># Regions of Interest</th>\n",
       "      <td>0.229216</td>\n",
       "      <td>0.166575</td>\n",
       "    </tr>\n",
       "    <tr>\n",
       "      <th>Size of Asymmetry</th>\n",
       "      <td>0.381445</td>\n",
       "      <td>0.099181</td>\n",
       "    </tr>\n",
       "    <tr>\n",
       "      <th>Vascularity</th>\n",
       "      <td>0.264944</td>\n",
       "      <td>0.168449</td>\n",
       "    </tr>\n",
       "    <tr>\n",
       "      <th>Shape of Asymmetry</th>\n",
       "      <td>0.304006</td>\n",
       "      <td>0.202789</td>\n",
       "    </tr>\n",
       "    <tr>\n",
       "      <th>delta-T</th>\n",
       "      <td>0.242897</td>\n",
       "      <td>0.369897</td>\n",
       "    </tr>\n",
       "    <tr>\n",
       "      <th>Nipple Asymmetry</th>\n",
       "      <td>-0.010518</td>\n",
       "      <td>0.112920</td>\n",
       "    </tr>\n",
       "    <tr>\n",
       "      <th>Breast Shape Asymmetry</th>\n",
       "      <td>0.097229</td>\n",
       "      <td>0.150776</td>\n",
       "    </tr>\n",
       "    <tr>\n",
       "      <th>Subjective</th>\n",
       "      <td>0.252105</td>\n",
       "      <td>0.305510</td>\n",
       "    </tr>\n",
       "  </tbody>\n",
       "</table>\n",
       "</div>"
      ],
      "text/plain": [
       "                              R1        R2\n",
       "# Regions of Interest   0.229216  0.166575\n",
       "Size of Asymmetry       0.381445  0.099181\n",
       "Vascularity             0.264944  0.168449\n",
       "Shape of Asymmetry      0.304006  0.202789\n",
       "delta-T                 0.242897  0.369897\n",
       "Nipple Asymmetry       -0.010518  0.112920\n",
       "Breast Shape Asymmetry  0.097229  0.150776\n",
       "Subjective              0.252105  0.305510"
      ]
     },
     "execution_count": 9,
     "metadata": {},
     "output_type": "execute_result"
    }
   ],
   "source": [
    "# Correlation with BIRADS\n",
    "corr_table1 = r1.corr()\n",
    "corr_table2 = r2.corr()\n",
    "corr_table = pd.DataFrame({'R1': corr_table1.BIRADS, 'R2': corr_table2.BIRADS})\n",
    "corr_table[corr_table.index!='BIRADS']"
   ]
  },
  {
   "cell_type": "code",
   "execution_count": 10,
   "metadata": {},
   "outputs": [
    {
     "data": {
      "image/png": "[encoded data removed]",
      "text/plain": [
       "<Figure size 720x720 with 2 Axes>"
      ]
     },
     "metadata": {
      "needs_background": "light"
     },
     "output_type": "display_data"
    }
   ],
   "source": [
    "# Difference in feature correlation (Pearson)\n",
    "diffs = (r1[['Size of Asymmetry', \n",
    "             'Vascularity', \n",
    "             'Shape of Asymmetry', \n",
    "             'delta-T']].corr()-r2[['Size of Asymmetry', \n",
    "                                    'Vascularity', \n",
    "                                    'Shape of Asymmetry', \n",
    "                                    'delta-T']].corr()).round(decimals=2)\n",
    "\n",
    "# Transform into a heat map\n",
    "fig = plt.figure(figsize=(10,10))\n",
    "ax = sns.heatmap(diffs, annot=True, cmap='coolwarm')\n",
    "plt.xticks(fontsize=12, rotation=45, ha='right')\n",
    "plt.yticks(fontsize=12)\n",
    "plt.xlabel(\"\")\n",
    "plt.ylabel(\"\")\n",
    "plt.show()"
   ]
  },
  {
   "cell_type": "code",
   "execution_count": 11,
   "metadata": {},
   "outputs": [
    {
     "data": {
      "text/html": [
       "<div>\n",
       "<style scoped>\n",
       "    .dataframe tbody tr th:only-of-type {\n",
       "        vertical-align: middle;\n",
       "    }\n",
       "\n",
       "    .dataframe tbody tr th {\n",
       "        vertical-align: top;\n",
       "    }\n",
       "\n",
       "    .dataframe thead th {\n",
       "        text-align: right;\n",
       "    }\n",
       "</style>\n",
       "<table border=\"1\" class=\"dataframe\">\n",
       "  <thead>\n",
       "    <tr style=\"text-align: right;\">\n",
       "      <th></th>\n",
       "      <th>Pearson</th>\n",
       "      <th>Spearman</th>\n",
       "      <th>MeanR1</th>\n",
       "      <th>MeanR2</th>\n",
       "    </tr>\n",
       "  </thead>\n",
       "  <tbody>\n",
       "    <tr>\n",
       "      <th># Regions of Interest</th>\n",
       "      <td>0.251183</td>\n",
       "      <td>0.259318</td>\n",
       "      <td>0.947368</td>\n",
       "      <td>1.271930</td>\n",
       "    </tr>\n",
       "    <tr>\n",
       "      <th>Size of Asymmetry</th>\n",
       "      <td>0.343649</td>\n",
       "      <td>0.332453</td>\n",
       "      <td>2.614035</td>\n",
       "      <td>4.763158</td>\n",
       "    </tr>\n",
       "    <tr>\n",
       "      <th>Vascularity</th>\n",
       "      <td>0.274263</td>\n",
       "      <td>0.265181</td>\n",
       "      <td>1.701754</td>\n",
       "      <td>2.903509</td>\n",
       "    </tr>\n",
       "    <tr>\n",
       "      <th>Shape of Asymmetry</th>\n",
       "      <td>0.225547</td>\n",
       "      <td>0.212124</td>\n",
       "      <td>3.087719</td>\n",
       "      <td>6.236842</td>\n",
       "    </tr>\n",
       "    <tr>\n",
       "      <th>delta-T</th>\n",
       "      <td>0.623705</td>\n",
       "      <td>0.637002</td>\n",
       "      <td>1.371404</td>\n",
       "      <td>1.383421</td>\n",
       "    </tr>\n",
       "    <tr>\n",
       "      <th>Nipple Asymmetry</th>\n",
       "      <td>0.116482</td>\n",
       "      <td>0.116482</td>\n",
       "      <td>0.429825</td>\n",
       "      <td>0.736842</td>\n",
       "    </tr>\n",
       "    <tr>\n",
       "      <th>Breast Shape Asymmetry</th>\n",
       "      <td>0.241491</td>\n",
       "      <td>0.230806</td>\n",
       "      <td>1.885965</td>\n",
       "      <td>5.114035</td>\n",
       "    </tr>\n",
       "    <tr>\n",
       "      <th>Subjective</th>\n",
       "      <td>0.360434</td>\n",
       "      <td>0.380625</td>\n",
       "      <td>3.833333</td>\n",
       "      <td>7.114035</td>\n",
       "    </tr>\n",
       "  </tbody>\n",
       "</table>\n",
       "</div>"
      ],
      "text/plain": [
       "                         Pearson  Spearman    MeanR1    MeanR2\n",
       "# Regions of Interest   0.251183  0.259318  0.947368  1.271930\n",
       "Size of Asymmetry       0.343649  0.332453  2.614035  4.763158\n",
       "Vascularity             0.274263  0.265181  1.701754  2.903509\n",
       "Shape of Asymmetry      0.225547  0.212124  3.087719  6.236842\n",
       "delta-T                 0.623705  0.637002  1.371404  1.383421\n",
       "Nipple Asymmetry        0.116482  0.116482  0.429825  0.736842\n",
       "Breast Shape Asymmetry  0.241491  0.230806  1.885965  5.114035\n",
       "Subjective              0.360434  0.380625  3.833333  7.114035"
      ]
     },
     "execution_count": 11,
     "metadata": {},
     "output_type": "execute_result"
    }
   ],
   "source": [
    "# Check correlation between two tables\n",
    "table = r1.corrwith(r2, axis=0, method='pearson') #.sort_values(ascending=False)\n",
    "table = pd.DataFrame(table, columns = ['Pearson'])\n",
    "table['Spearman'] = r1.corrwith(r2, axis=0, method='spearman').values\n",
    "table['MeanR1'] = r1.mean(axis=0).values\n",
    "table['MeanR2'] = r2.mean(axis=0).values\n",
    "table[table.index!='BIRADS']"
   ]
  },
  {
   "cell_type": "markdown",
   "metadata": {},
   "source": [
    "Nipple Asymmetry has the worst Pearson coefficient of around 0.12 (mild correlation.) \n",
    "\n",
    "The highest correlation is indicated by the column delta-T - around 0.6. That can be explained by the metric's objective nature. "
   ]
  },
  {
   "cell_type": "code",
   "execution_count": 12,
   "metadata": {},
   "outputs": [
    {
     "data": {
      "image/png": "[encoded data removed]",
      "text/plain": [
       "<Figure size 432x288 with 1 Axes>"
      ]
     },
     "metadata": {
      "needs_background": "light"
     },
     "output_type": "display_data"
    },
    {
     "data": {
      "image/png": "[encoded data removed]",
      "text/plain": [
       "<Figure size 432x288 with 1 Axes>"
      ]
     },
     "metadata": {
      "needs_background": "light"
     },
     "output_type": "display_data"
    },
    {
     "data": {
      "image/png": "[encoded data removed]",
      "text/plain": [
       "<Figure size 432x288 with 1 Axes>"
      ]
     },
     "metadata": {
      "needs_background": "light"
     },
     "output_type": "display_data"
    },
    {
     "data": {
      "image/png": "[encoded data removed]",
      "text/plain": [
       "<Figure size 432x288 with 1 Axes>"
      ]
     },
     "metadata": {
      "needs_background": "light"
     },
     "output_type": "display_data"
    },
    {
     "data": {
      "image/png": "[encoded data removed]",
      "text/plain": [
       "<Figure size 432x288 with 1 Axes>"
      ]
     },
     "metadata": {
      "needs_background": "light"
     },
     "output_type": "display_data"
    },
    {
     "data": {
      "image/png": "[encoded data removed]",
      "text/plain": [
       "<Figure size 432x288 with 1 Axes>"
      ]
     },
     "metadata": {
      "needs_background": "light"
     },
     "output_type": "display_data"
    },
    {
     "data": {
      "image/png": "[encoded data removed]",
      "text/plain": [
       "<Figure size 432x288 with 1 Axes>"
      ]
     },
     "metadata": {
      "needs_background": "light"
     },
     "output_type": "display_data"
    },
    {
     "data": {
      "image/png": "[encoded data removed]",
      "text/plain": [
       "<Figure size 432x288 with 1 Axes>"
      ]
     },
     "metadata": {
      "needs_background": "light"
     },
     "output_type": "display_data"
    }
   ],
   "source": [
    "# Exploratory correlation plots for R1 and R2\n",
    "for column in r1.columns:\n",
    "    if column != 'BIRADS':\n",
    "        plt.scatter(r1[column].values + np.random.normal(0,0.01,len(r1)), \n",
    "                    r2[column].values, alpha=0.5)\n",
    "        plt.title(column)\n",
    "        plt.show()"
   ]
  },
  {
   "cell_type": "markdown",
   "metadata": {},
   "source": [
    "### Combined Evaluations"
   ]
  },
  {
   "cell_type": "code",
   "execution_count": 13,
   "metadata": {},
   "outputs": [],
   "source": [
    "# Try both mean or max of R1 and R2 evaluations\n",
    "comb_avg = r1.copy()\n",
    "comb_avg_max = r1.copy()\n",
    "for column in r1.columns:\n",
    "    comb_avg[column] = (r1[column].values + r2[column].values)/2.\n",
    "    comb_avg_max[column] = [max(r1[column].values[i], \n",
    "                                r2[column].values[i]) for i in range(len(r1[column].values))]"
   ]
  },
  {
   "cell_type": "markdown",
   "metadata": {},
   "source": [
    "### Thermal Scores\n",
    "\n",
    "1) Thermal score from Gonzalez (2011): the vascularity score with 4 values plus delta T.\n",
    "\n",
    "2) VM Score from Keyserlingk (2000) based on the quantity of abnormal signs.\n",
    "\n",
    "3) Subjective evaluation"
   ]
  },
  {
   "cell_type": "code",
   "execution_count": 14,
   "metadata": {},
   "outputs": [],
   "source": [
    "def get_therm_scores(r1):\n",
    "    ''' Create a dataframe with scores and BIRADS statuses. \n",
    "\n",
    "    Inputs\n",
    "    ----------\n",
    "    r1: pandas dataframe\n",
    "         Dataframe with human evaluations\n",
    "\n",
    "    Returns\n",
    "    -------\n",
    "    Dataframe with the subjective and Gonzalez scores.\n",
    "    '''\n",
    "    # Gonzalez score is defined as the sum of vascularity and delta-T\n",
    "    scores = pd.DataFrame({'Gonzalez':r1['Vascularity'] + r1['delta-T'],\n",
    "                           'Subjective': r1['Subjective'],\n",
    "                           'BIRADS': r1.BIRADS})\n",
    "    return scores"
   ]
  },
  {
   "cell_type": "code",
   "execution_count": 15,
   "metadata": {},
   "outputs": [],
   "source": [
    "def hist_feature(feature, df):\n",
    "    ''' Plot the distribution of scores colored by BI-RADS.\n",
    "    \n",
    "    Inputs\n",
    "    ----------\n",
    "    feature: str\n",
    "         Column of interest\n",
    "    df: pandas dataframe\n",
    "         Dataframe with all features\n",
    "    \n",
    "    Returns\n",
    "    -------\n",
    "    Plot of scores colored by BI-RADS.\n",
    "    '''\n",
    "    plt.hist(df[feature][df['BIRADS'] == 6], \n",
    "             color = 'red',\n",
    "             alpha = 0.5, \n",
    "             density = False)\n",
    "    plt.hist(df[feature][df['BIRADS'].isin([3,4])], \n",
    "             color = 'orange',\n",
    "             alpha = 0.5, \n",
    "             density = False)\n",
    "    plt.hist(df[feature][df['BIRADS'] <= 2], \n",
    "             color = 'blue',\n",
    "             alpha = 0.5, \n",
    "             density = False)\n",
    "    plt.title(feature)\n",
    "    plt.show()\n",
    "    return"
   ]
  },
  {
   "cell_type": "code",
   "execution_count": 16,
   "metadata": {},
   "outputs": [],
   "source": [
    "# Get thermal scores for both researchers\n",
    "scores_r1 = get_therm_scores(r1)\n",
    "scores_r2 = get_therm_scores(r2)\n",
    "scores_comb_avg = get_therm_scores(comb_avg)\n",
    "scores_comb_max = get_therm_scores(comb_avg_max)"
   ]
  },
  {
   "cell_type": "code",
   "execution_count": 17,
   "metadata": {},
   "outputs": [],
   "source": [
    "# This cell extracts the difference between the right and the left breast\n",
    "# \"mean_diff\" from the company's database.\n",
    "pids = np.concatenate([np.load('data/aggregate/pids.npy', \n",
    "                               allow_pickle=True), \n",
    "                       np.load('data/aggregate/pids_test.npy', \n",
    "                               allow_pickle=True),\n",
    "                       np.load('data/aggregate/pids_blind_test.npy', \n",
    "                               allow_pickle=True)])\n",
    "\n",
    "features = np.concatenate([np.load('data/aggregate/feature_data.npy', \n",
    "                                   allow_pickle=True), \n",
    "                           np.load('data/aggregate/feature_test.npy', \n",
    "                                   allow_pickle=True),\n",
    "                           np.load('data/aggregate/features_blind_test.npy', \n",
    "                                   allow_pickle=True)])\n",
    "\n",
    "columns = np.load('data/aggregate/feature_names.npy')\n",
    "\n",
    "# Subset mean_diff required for the VM score\n",
    "data = pd.DataFrame(features, columns=columns)\n",
    "data['pids'] = pids\n",
    "temp_diff = data[['mean_diff', 'pids']]\n",
    "\n",
    "\n",
    "def add_mean_diff(df, temp_diff, pids):\n",
    "    ''' Add mean_diff column to human interpretation dataframes. \n",
    "    \n",
    "    Inputs\n",
    "    ----------\n",
    "    df: pandas dataframe\n",
    "         Dataframe with human evaluations\n",
    "    temp_diff: pandas dataframe\n",
    "         Dataframe with a feature of interest\n",
    "    pids: list\n",
    "         List pf patient IDs\n",
    "\n",
    "    Returns\n",
    "    -------\n",
    "    Dataframe with temp_diff.\n",
    "    '''\n",
    "    df_copy = df.copy()\n",
    "    df_copy['pids'] = pids\n",
    "    new_df = pd.merge(df_copy, temp_diff, on='pids', how='left')\n",
    "    # Check for missing values\n",
    "    new_df[['pids', 'mean_diff']][np.isnan(new_df.mean_diff)]\n",
    "    return new_df"
   ]
  },
  {
   "cell_type": "code",
   "execution_count": 18,
   "metadata": {},
   "outputs": [],
   "source": [
    "# Add column to all dfs\n",
    "new_r1 = add_mean_diff(r1, temp_diff, eval_pids)\n",
    "new_r2 = add_mean_diff(r2, temp_diff, eval_pids)\n",
    "new_comb_avg = add_mean_diff(comb_avg, temp_diff, eval_pids)\n",
    "new_comb_max = add_mean_diff(comb_avg_max, temp_diff, eval_pids)"
   ]
  },
  {
   "cell_type": "code",
   "execution_count": 19,
   "metadata": {},
   "outputs": [],
   "source": [
    "def get_VM(df):\n",
    "    ''' \n",
    "    Calculate the VM score as defined in Keyserlingk (2000).\n",
    "    \n",
    "    Inputs\n",
    "    ----------\n",
    "    df: pandas dataframe\n",
    "         Dataframe with human evaluations\n",
    "        \n",
    "    Returns\n",
    "    -------\n",
    "    VM score as defined in Keyserlingk (2001)\n",
    "    '''\n",
    "    scores = []\n",
    "    for index, row in df.iterrows():\n",
    "        if row['Vascularity']<3:\n",
    "            scores.append(np.ceil(row['Vascularity']))\n",
    "            continue\n",
    "        else:\n",
    "            signs = 0\n",
    "            # Sign 1: Significant vascular asymmetry\n",
    "            if row['Vascularity'] > 2:\n",
    "                signs += 1\n",
    "            # Sign 2: Unusual vascular shape\n",
    "            if row['Shape of Asymmetry'] > 5:\n",
    "                signs+= 1\n",
    "            # Sign 3: 1 degree increase in temperature\n",
    "            if row['delta-T'] > 1:\n",
    "                signs +=1\n",
    "            # Sign 4: 2 degrees increase\n",
    "            if row['delta-T'] > 2:\n",
    "                signs += 1\n",
    "            # Sign 5: Mean difference above 1.5 degrees\n",
    "            if row['mean_diff'] > 1.5:\n",
    "                signs += 1\n",
    "        if signs == 1:\n",
    "            scores.append(3)\n",
    "        elif signs == 2:\n",
    "            scores.append(4)\n",
    "        elif signs >= 3:\n",
    "            scores.append(5)\n",
    "    return scores"
   ]
  },
  {
   "cell_type": "code",
   "execution_count": 20,
   "metadata": {},
   "outputs": [],
   "source": [
    "# Add scores to dfs        \n",
    "scores_r1['Keyserlingk'] = get_VM(new_r1)\n",
    "scores_r2['Keyserlingk'] = get_VM(new_r2)\n",
    "scores_comb_avg['Keyserlingk'] = get_VM(new_comb_avg)\n",
    "scores_comb_max['Keyserlingk'] = get_VM(new_comb_max)"
   ]
  },
  {
   "cell_type": "markdown",
   "metadata": {},
   "source": [
    "## Score correlation"
   ]
  },
  {
   "cell_type": "code",
   "execution_count": 21,
   "metadata": {},
   "outputs": [
    {
     "data": {
      "image/png": "[encoded data removed]",
      "text/plain": [
       "<Figure size 432x288 with 1 Axes>"
      ]
     },
     "metadata": {
      "needs_background": "light"
     },
     "output_type": "display_data"
    },
    {
     "data": {
      "image/png": "[encoded data removed]",
      "text/plain": [
       "<Figure size 432x288 with 1 Axes>"
      ]
     },
     "metadata": {
      "needs_background": "light"
     },
     "output_type": "display_data"
    },
    {
     "data": {
      "image/png": "[encoded data removed]",
      "text/plain": [
       "<Figure size 432x288 with 1 Axes>"
      ]
     },
     "metadata": {
      "needs_background": "light"
     },
     "output_type": "display_data"
    }
   ],
   "source": [
    "# Plot thermal scores\n",
    "therm_plot = [hist_feature(ts, scores_r1) for ts in ['Gonzalez', \n",
    "                                                     'Subjective',\n",
    "                                                     'Keyserlingk']]"
   ]
  },
  {
   "cell_type": "code",
   "execution_count": 22,
   "metadata": {},
   "outputs": [
    {
     "data": {
      "text/html": [
       "<div>\n",
       "<style scoped>\n",
       "    .dataframe tbody tr th:only-of-type {\n",
       "        vertical-align: middle;\n",
       "    }\n",
       "\n",
       "    .dataframe tbody tr th {\n",
       "        vertical-align: top;\n",
       "    }\n",
       "\n",
       "    .dataframe thead th {\n",
       "        text-align: right;\n",
       "    }\n",
       "</style>\n",
       "<table border=\"1\" class=\"dataframe\">\n",
       "  <thead>\n",
       "    <tr style=\"text-align: right;\">\n",
       "      <th></th>\n",
       "      <th>R1</th>\n",
       "      <th>R2</th>\n",
       "      <th>Both Mean</th>\n",
       "      <th>Both Max</th>\n",
       "    </tr>\n",
       "  </thead>\n",
       "  <tbody>\n",
       "    <tr>\n",
       "      <th>Gonzalez</th>\n",
       "      <td>0.290213</td>\n",
       "      <td>0.351429</td>\n",
       "      <td>0.361505</td>\n",
       "      <td>0.355754</td>\n",
       "    </tr>\n",
       "    <tr>\n",
       "      <th>Subjective</th>\n",
       "      <td>0.252105</td>\n",
       "      <td>0.305510</td>\n",
       "      <td>0.340971</td>\n",
       "      <td>0.366800</td>\n",
       "    </tr>\n",
       "    <tr>\n",
       "      <th>Keyserlingk</th>\n",
       "      <td>0.250293</td>\n",
       "      <td>0.315799</td>\n",
       "      <td>0.231851</td>\n",
       "      <td>0.315367</td>\n",
       "    </tr>\n",
       "  </tbody>\n",
       "</table>\n",
       "</div>"
      ],
      "text/plain": [
       "                   R1        R2  Both Mean  Both Max\n",
       "Gonzalez     0.290213  0.351429   0.361505  0.355754\n",
       "Subjective   0.252105  0.305510   0.340971  0.366800\n",
       "Keyserlingk  0.250293  0.315799   0.231851  0.315367"
      ]
     },
     "execution_count": 22,
     "metadata": {},
     "output_type": "execute_result"
    }
   ],
   "source": [
    "# Print correlation scores with BIRADS\n",
    "score_table = scores_r1.corr().BIRADS\n",
    "score_table = pd.DataFrame(score_table)\n",
    "score_table.columns = ['R1']\n",
    "score_table['R2'] =  scores_r2.corr().BIRADS.values\n",
    "score_table['Both Mean'] =  scores_comb_avg.corr().BIRADS.values\n",
    "score_table['Both Max'] =  scores_comb_max.corr().BIRADS.values\n",
    "score_table\n",
    "to_print = score_table[(score_table.index!='BIRADS')]\n",
    "to_print.index = ['Gonzalez', 'Subjective', 'Keyserlingk']\n",
    "to_print"
   ]
  },
  {
   "cell_type": "markdown",
   "metadata": {},
   "source": [
    "The performance is comparable for both researchers, none of the scores seem to be significantly better than the other, but the Gonzalez score is the leader for the full dataset. "
   ]
  },
  {
   "cell_type": "code",
   "execution_count": 23,
   "metadata": {},
   "outputs": [],
   "source": [
    "# Adapted from:\n",
    "# https://stackoverflow.com/questions/28719067/roc-curve-and-cut-off-point-python\n",
    "def find_threshold(target, pred, vis=False):\n",
    "    \"\"\" Find the optimal threshold by maximizing specificity + sensitivity\n",
    "    \n",
    "    Inputs\n",
    "    ----------\n",
    "    target : pandas dataframe\n",
    "        Matrix with target data, where rows are observations\n",
    "\n",
    "    pred : pandas dataframe\n",
    "        Matrix with predicted data, where rows are observations\n",
    "    vis: bool (optional)\n",
    "        Indicator of whether to create a visualization\n",
    "    \n",
    "    Returns\n",
    "    -------     \n",
    "    List type, with optimal cutoff value\n",
    "\n",
    "    \"\"\"\n",
    "    fpr, tpr, threshold = metrics.roc_curve(target, pred)\n",
    "    i = np.arange(len(tpr)) \n",
    "    if vis:\n",
    "        roc = pd.DataFrame({'fpr' : pd.Series(fpr, index=i),\n",
    "                                'tpr' : pd.Series(tpr, index = i), \n",
    "                                '1-fpr' : pd.Series(1-fpr, index = i), \n",
    "                                'tf' : pd.Series(tpr - (1-fpr), index = i), \n",
    "                                'thresholds' : pd.Series(threshold, index = i)})\n",
    "        roc.ix[(roc.tf-0).abs().argsort()[:1]]\n",
    "\n",
    "        # Plot tpr vs 1-fpr\n",
    "        fig, ax = plt.subplots()\n",
    "        plt.plot(roc['tpr'])\n",
    "        plt.plot(roc['1-fpr'], color = 'red')\n",
    "        plt.xlabel('1-False Positive Rate')\n",
    "        plt.ylabel('True Positive Rate')\n",
    "        plt.title('Optimal Intersection')\n",
    "        ax.set_xticklabels([])\n",
    "        plt.show()\n",
    "    roc = pd.DataFrame({'tf' : pd.Series(tpr-(1-fpr), index=i), 'threshold' : pd.Series(threshold, index=i)})\n",
    "    roc_t = roc.ix[(roc.tf-0).abs().argsort()[:1]]\n",
    "    return float(roc_t['threshold']) "
   ]
  },
  {
   "cell_type": "code",
   "execution_count": 41,
   "metadata": {},
   "outputs": [],
   "source": [
    "# Explore the best thresholds\n",
    "def get_ROC(df, vis=False):\n",
    "    ''' Compute ROC scores for two researchers. \n",
    "    \n",
    "    Inputs\n",
    "    ----------\n",
    "    df : pandas dataframe \n",
    "        Dataframe with scores\n",
    "\n",
    "    vis : bool \n",
    "        Indicator of whether to produce plots\n",
    "\n",
    "    Returns\n",
    "    -------     \n",
    "    Plt type, ROC curves for different scores\n",
    "    '''\n",
    "    scores = df.copy()\n",
    "    # Turn BIRADS into binary cancer column\n",
    "    scores['cancer'] = np.where(scores['BIRADS']>3, 1,0)\n",
    "    scores = scores.drop(columns='BIRADS')\n",
    "    gt = scores.cancer.values\n",
    "    # Normalize features\n",
    "    x = scores.values\n",
    "    min_max_scaler = preprocessing.MinMaxScaler()\n",
    "    x_scaled = min_max_scaler.fit_transform(x)\n",
    "    scores = pd.DataFrame(x_scaled, columns=scores.columns)\n",
    "    labels = ['Gonzalez', 'Keyserlingk', 'Subjective']\n",
    "    i=-1\n",
    "    for column in scores.columns:\n",
    "        # Define which scores to include\n",
    "        if column != 'cancer' :\n",
    "            fpr, tpr, thresholds = metrics.roc_curve(gt, scores[column].values)\n",
    "            thres = find_threshold(gt, scores[column].values, vis=False)\n",
    "            print(str(column) +' optimal threshold: {0:0.2}'.format(thres))\n",
    "            if vis:\n",
    "                i+=1\n",
    "                auc_score = str(round(metrics.roc_auc_score(gt, scores[column].values), 2))\n",
    "                plt.plot(fpr,tpr, label=labels[i] + ' AUC: ' + auc_score)\n",
    "                plt.plot([0, 1], [0, 1], color='navy', linestyle='--')\n",
    "                plt.xlabel('False Positive Rate')\n",
    "                plt.ylabel('True Positive Rate') \n",
    "        plt.legend()\n",
    "        plt.plot()\n",
    "    return gt, scores"
   ]
  },
  {
   "cell_type": "code",
   "execution_count": 42,
   "metadata": {},
   "outputs": [
    {
     "name": "stdout",
     "output_type": "stream",
     "text": [
      "Gonzalez optimal threshold: 0.31\n",
      "Subjective optimal threshold: 0.38\n",
      "Keyserlingk optimal threshold: 0.25\n"
     ]
    },
    {
     "data": {
      "image/png": "[encoded data removed]",
      "text/plain": [
       "<Figure size 432x288 with 1 Axes>"
      ]
     },
     "metadata": {
      "needs_background": "light"
     },
     "output_type": "display_data"
    }
   ],
   "source": [
    "# Compare performance\n",
    "gt, preds = get_ROC(scores_comb_avg, True)"
   ]
  },
  {
   "cell_type": "code",
   "execution_count": 44,
   "metadata": {},
   "outputs": [],
   "source": [
    "pred_df = pd.DataFrame({'pid':eval_pids, 'gt': gt, \n",
    "                        'preds': preds['Gonzalez'].values})\n",
    "pred_df.to_csv('human_predictions.csv')"
   ]
  },
  {
   "cell_type": "markdown",
   "metadata": {},
   "source": [
    "## ML\n",
    "\n",
    "Even though this part is not included in the paper, the graphs illustrate that it is possible to differentiate between different BIRADS groups using ML models. This analysis is beyond the scope of this paper but might be useful in case more manually scored data will be added to the pipeline."
   ]
  },
  {
   "cell_type": "code",
   "execution_count": 26,
   "metadata": {},
   "outputs": [],
   "source": [
    "# Subset train and test sets\n",
    "test_ind = np.random.rand(len(r1)) > 0.7\n",
    "train = r1[~test_ind]\n",
    "test = r1[test_ind]"
   ]
  },
  {
   "cell_type": "code",
   "execution_count": 27,
   "metadata": {},
   "outputs": [],
   "source": [
    "# Train different models\n",
    "mlp = MLP(hidden_layer_sizes = (5))\n",
    "logreg = LogisticRegression()\n",
    "rf = RandomForestClassifier()\n",
    "\n",
    "mlp.fit(train.drop(dropcols, axis=1), \n",
    "        train['BIRADS']==6)\n",
    "logreg.fit(train.drop(dropcols, axis=1),\n",
    "           train['BIRADS']==6)\n",
    "rf_model = rf.fit(train.drop(dropcols, axis=1),\n",
    "                  train['BIRADS']==6)"
   ]
  },
  {
   "cell_type": "code",
   "execution_count": 28,
   "metadata": {},
   "outputs": [],
   "source": [
    "# Create a copy of test to get predictions\n",
    "# We need it because we add new columns to test\n",
    "test_copy = test.drop(dropcols, axis=1)"
   ]
  },
  {
   "cell_type": "code",
   "execution_count": 29,
   "metadata": {},
   "outputs": [],
   "source": [
    "test['preds_mlp'] = mlp.predict_proba(test_copy)[:,1]\n",
    "test['preds_lr'] = logreg.predict_proba(test_copy)[:,1]\n",
    "test['preds_rf'] = rf.predict_proba(test_copy)[:,1]"
   ]
  },
  {
   "cell_type": "code",
   "execution_count": 30,
   "metadata": {},
   "outputs": [
    {
     "data": {
      "image/png": "[encoded data removed]",
      "text/plain": [
       "<Figure size 432x288 with 1 Axes>"
      ]
     },
     "metadata": {
      "needs_background": "light"
     },
     "output_type": "display_data"
    },
    {
     "data": {
      "image/png": "[encoded data removed]",
      "text/plain": [
       "<Figure size 432x288 with 1 Axes>"
      ]
     },
     "metadata": {
      "needs_background": "light"
     },
     "output_type": "display_data"
    },
    {
     "data": {
      "image/png": "[encoded data removed]",
      "text/plain": [
       "<Figure size 432x288 with 1 Axes>"
      ]
     },
     "metadata": {
      "needs_background": "light"
     },
     "output_type": "display_data"
    }
   ],
   "source": [
    "preds = [hist_feature(preds, test) for preds in ['preds_mlp', 'preds_lr','preds_rf']]"
   ]
  }
 ],
 "metadata": {
  "kernelspec": {
   "display_name": "evamodels",
   "language": "python",
   "name": "evamodels"
  },
  "language_info": {
   "codemirror_mode": {
    "name": "ipython",
    "version": 3
   },
   "file_extension": ".py",
   "mimetype": "text/x-python",
   "name": "python",
   "nbconvert_exporter": "python",
   "pygments_lexer": "ipython3",
   "version": "3.6.8"
  },
  "toc": {
   "base_numbering": 1,
   "nav_menu": {},
   "number_sections": true,
   "sideBar": true,
   "skip_h1_title": true,
   "title_cell": "Table of Contents",
   "title_sidebar": "Contents",
   "toc_cell": true,
   "toc_position": {},
   "toc_section_display": true,
   "toc_window_display": true
  }
 },
 "nbformat": 4,
 "nbformat_minor": 2
}
